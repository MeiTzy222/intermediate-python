{
 "cells": [
  {
   "cell_type": "markdown",
   "metadata": {
    "collapsed": true
   },
   "source": [
    "## Python Decorator\n",
    "\n",
    "http://blog.thedigitalcatonline.com/blog/2014/10/14/decorators-and-metaclasses/\n",
    "\n",
    "http://jfine-python-classes.readthedocs.io/en/latest/decorators-versus-metaclass.html\n",
    "\n",
    "https://jeffknupp.com/blog/2013/11/29/improve-your-python-decorators-explained/\n",
    "\n",
    "[Decorators - Dynamically Alter The Functionality Of Your Functions](https://www.youtube.com/watch?v=FsAPt_9Bf3U)\n",
    "\n",
    "[Decorators - A powerful weapon in your python arsenal](https://www.youtube.com/watch?v=9oyr0mocZTg)\n",
    "\n",
    "\n",
    "## Property\n",
    "\n",
    "@property - Convert dotted access to method calls.\n",
    "\n",
    "Ref:-\n",
    "[Properties](https://docs.google.com/presentation/d/11hfrgk-1Z-A8gyDcsemSUoCg_JiUARyZI5H2K9ojM0E/edit#slide=id.g2333d51a6e_0_66)"
   ]
  },
  {
   "cell_type": "code",
   "execution_count": null,
   "metadata": {
    "collapsed": true
   },
   "outputs": [],
   "source": []
  }
 ],
 "metadata": {
  "kernelspec": {
   "display_name": "Python 3",
   "language": "python",
   "name": "python3"
  },
  "language_info": {
   "codemirror_mode": {
    "name": "ipython",
    "version": 3
   },
   "file_extension": ".py",
   "mimetype": "text/x-python",
   "name": "python",
   "nbconvert_exporter": "python",
   "pygments_lexer": "ipython3",
   "version": "3.7.0"
  }
 },
 "nbformat": 4,
 "nbformat_minor": 2
}
