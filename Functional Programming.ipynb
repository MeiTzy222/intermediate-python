{
 "cells": [
  {
   "cell_type": "markdown",
   "metadata": {},
   "source": [
    "## Functional Programming\n",
    "\n",
    "1. High Order Function / First-class object\n",
    "2. Immutability (no side effect)\n",
    "\n",
    "Introduce Lambdas and functional constructs like map, filter, reduce.\n",
    "\n",
    "Ref:-\n",
    "https://docs.python.org/3/library/functional.html\n",
    "\n",
    "Free e-book\n",
    "https://books.google.com.my/books?id=aKdWDwAAQBAJ&pg=PA319&lpg=PA319&dq=python+programming+language+under+the+hood&source=bl&ots=9rtsCALtG7&sig=7zry0z8cI_biX35BrvSdcQnOVF8&hl=en&sa=X&ved=2ahUKEwjZ_4zW36vdAhVMwI8KHadRDYQ4ChDoATAFegQICRAB#v=onepage&q=python%20programming%20language%20under%20the%20hood&f=false\n"
   ]
  },
  {
   "cell_type": "code",
   "execution_count": null,
   "metadata": {
    "collapsed": true
   },
   "outputs": [],
   "source": []
  }
 ],
 "metadata": {
  "kernelspec": {
   "display_name": "Python 3",
   "language": "python",
   "name": "python3"
  },
  "language_info": {
   "codemirror_mode": {
    "name": "ipython",
    "version": 3
   },
   "file_extension": ".py",
   "mimetype": "text/x-python",
   "name": "python",
   "nbconvert_exporter": "python",
   "pygments_lexer": "ipython3",
   "version": "3.7.0"
  }
 },
 "nbformat": 4,
 "nbformat_minor": 2
}
