{
 "cells": [
  {
   "cell_type": "markdown",
   "metadata": {},
   "source": [
    "## Functional Programming\n",
    "\n",
    "1. High Order Function / First-class object\n",
    "2. Immutability (no side effect)\n",
    "\n",
    "Introduce Lambdas and functional constructs like map, filter, reduce."
   ]
  },
  {
   "cell_type": "markdown",
   "metadata": {},
   "source": [
    "## List Comprehensions\n",
    "\n",
    "Creating a new list from a list.\n",
    "\n",
    "[Using List Comprehensions and Generator Expressions For Data Processing, Trey Hunner @ PyCon 2018](https://www.youtube.com/watch?v=_6U1XoxyyBY)\n",
    "\n",
    "Note: There is also Set Comprehension (which we'll not cover much). It just takes a list and make a new set out of it."
   ]
  },
  {
   "cell_type": "markdown",
   "metadata": {},
   "source": [
    "## Generator Expressions\n",
    "\n",
    "It takes a list and make a lazy iterable. **`yield`** keyword will take over function - which means you cannot control it anymore. You cannot `return` anything and you don't know what it will return.\n",
    "\n",
    "**Rule of thumb** - Whenever a stream is being looped over just once, use generator expression for memory efficiency.\n",
    "\n",
    "Note: We can also pass generator expressions to set(), tuple() or list() to change to the particular data structure. "
   ]
  },
  {
   "cell_type": "markdown",
   "metadata": {
    "collapsed": true
   },
   "source": [
    "## Dictionary Comprehensions\n",
    "\n",
    "There is also dictionary comprehension - taking iterable and make a new dictionary out of it.\n",
    "\n",
    "```python\n",
    "from string import ascii_lowercase\n",
    "letters = {\n",
    "    letter: n + 1\n",
    "    for n, letter in enumerate(ascii_lowercase)\n",
    "}\n",
    "```"
   ]
  },
  {
   "cell_type": "markdown",
   "metadata": {},
   "source": [
    "### Food for thought:-\n",
    "\n",
    "1. When will you abuse comprehensions?"
   ]
  },
  {
   "cell_type": "markdown",
   "metadata": {},
   "source": [
    "## Exercises\n",
    "\n",
    "http://pycon2018.trey.io/"
   ]
  },
  {
   "cell_type": "code",
   "execution_count": null,
   "metadata": {
    "collapsed": true
   },
   "outputs": [],
   "source": []
  }
 ],
 "metadata": {
  "kernelspec": {
   "display_name": "Python 3",
   "language": "python",
   "name": "python3"
  },
  "language_info": {
   "codemirror_mode": {
    "name": "ipython",
    "version": 3
   },
   "file_extension": ".py",
   "mimetype": "text/x-python",
   "name": "python",
   "nbconvert_exporter": "python",
   "pygments_lexer": "ipython3",
   "version": "3.6.1"
  }
 },
 "nbformat": 4,
 "nbformat_minor": 2
}
