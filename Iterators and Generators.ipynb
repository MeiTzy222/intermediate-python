{
 "cells": [
  {
   "cell_type": "markdown",
   "metadata": {},
   "source": [
    "## Iterators\n",
    "\n",
    "Understand what iterable (streams of values) and iterator (abstraction to iterate data over iterable) means.  \n",
    "\n",
    "Iterator object (under the hood) consists of:-\n",
    "1. `__iter__`\n",
    "2. `__next__`\n",
    "3. StopIteration exception\n",
    "\n",
    "Python List Under the Hood - https://www.youtube.com/watch?v=8NQoLCUy2z0  \n",
    "Naomi Ceder - Iteration Inside Out Python's Iteration Protocol - https://www.youtube.com/watch?v=kXd1sIbdM8w"
   ]
  },
  {
   "cell_type": "markdown",
   "metadata": {},
   "source": [
    "## itertools\n",
    "\n",
    "https://docs.python.org/3/library/itertools.html#recipes"
   ]
  },
  {
   "cell_type": "markdown",
   "metadata": {},
   "source": [
    "## Generators\n",
    "\n",
    "Produce a stream but it's a lazy loader. \n",
    "\n",
    "This is a 3 series talk:- \n",
    "[Advanced tips & tricks, David M. Beazley](http://www.dabeaz.com/generators-uk/)\n",
    "\n",
    "Dataclasses: The code generator to end all code generators, Raymond Hettinger\n",
    "\n",
    "https://jeffknupp.com/blog/2018/06/04/a-common-misunderstanding-about-python-generators/  \n",
    "https://jeffknupp.com/blog/2013/04/07/improve-your-python-yield-and-generators-explained/\n",
    "\n",
    "Revisit Context Manager with Decorator - contextlib"
   ]
  },
  {
   "cell_type": "markdown",
   "metadata": {},
   "source": [
    "## Reference:-\n",
    "1. [Loop like a native: while, for, iterators, generators - Ned Batchelder @ PyCon 2013](https://www.youtube.com/watch?v=EnSu9hHGq5o)\n",
    "2. [Looping Like a Pro in Python, David DB Baumgold @ PyCon 2017](https://www.youtube.com/watch?v=u8g9scXeAcI)\n",
    "3. [Python Generators Tutorial](https://www.dataquest.io/blog/python-generators-tutorial/)\n",
    "4. [Generators - How to use them and the benefits you receive](https://www.youtube.com/watch?v=bD05uGo_sVI&index=33&list=PL-osiE80TeTt2d9bfVyTiXJA-UTHn6WwU)"
   ]
  },
  {
   "cell_type": "code",
   "execution_count": null,
   "metadata": {
    "collapsed": true
   },
   "outputs": [],
   "source": []
  }
 ],
 "metadata": {
  "kernelspec": {
   "display_name": "Python 3",
   "language": "python",
   "name": "python3"
  },
  "language_info": {
   "codemirror_mode": {
    "name": "ipython",
    "version": 3
   },
   "file_extension": ".py",
   "mimetype": "text/x-python",
   "name": "python",
   "nbconvert_exporter": "python",
   "pygments_lexer": "ipython3",
   "version": "3.7.0"
  }
 },
 "nbformat": 4,
 "nbformat_minor": 2
}
