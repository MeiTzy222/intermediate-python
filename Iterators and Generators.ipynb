{
 "cells": [
  {
   "cell_type": "markdown",
   "metadata": {},
   "source": [
    "## Iterators\n",
    "\n",
    "Understand what iterable (streams of values) and iterator (abstraction to iterate data over iterable) means.  \n",
    "\n",
    "Iterator object (under the hood) consists of:-\n",
    "1. `__iter__`\n",
    "2. `__next__`\n",
    "3. StopIteration exception\n",
    "\n"
   ]
  },
  {
   "cell_type": "markdown",
   "metadata": {},
   "source": [
    "## Generators\n",
    "\n",
    "Produce a stream but it's a lazy loader. \n",
    "\n",
    "This is a 3 series talk:- \n",
    "[Advanced tips & tricks, David M. Beazley](http://www.dabeaz.com/generators-uk/)"
   ]
  },
  {
   "cell_type": "markdown",
   "metadata": {},
   "source": [
    "## Reference:-\n",
    "1. [Loop like a native: while, for, iterators, generators - Ned Batchelder @ PyCon 2013](https://www.youtube.com/watch?v=EnSu9hHGq5o)\n",
    "2. [Looping Like a Pro in Python, David DB Baumgold @ PyCon 2017](https://www.youtube.com/watch?v=u8g9scXeAcI)"
   ]
  },
  {
   "cell_type": "code",
   "execution_count": null,
   "metadata": {
    "collapsed": true
   },
   "outputs": [],
   "source": []
  }
 ],
 "metadata": {
  "kernelspec": {
   "display_name": "Python 3",
   "language": "python",
   "name": "python3"
  },
  "language_info": {
   "codemirror_mode": {
    "name": "ipython",
    "version": 3
   },
   "file_extension": ".py",
   "mimetype": "text/x-python",
   "name": "python",
   "nbconvert_exporter": "python",
   "pygments_lexer": "ipython3",
   "version": "3.6.1"
  }
 },
 "nbformat": 4,
 "nbformat_minor": 2
}
